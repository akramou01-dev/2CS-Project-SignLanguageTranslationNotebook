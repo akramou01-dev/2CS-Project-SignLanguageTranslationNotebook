{
 "cells": [
  {
   "cell_type": "code",
   "execution_count": 1,
   "id": "856ff1d0",
   "metadata": {},
   "outputs": [
    {
     "name": "stdout",
     "output_type": "stream",
     "text": [
      "Collecting mediapipe\n",
      "  Downloading mediapipe-0.8.4.2-cp38-cp38-win_amd64.whl (52.0 MB)\n",
      "Collecting opencv-contrib-python\n",
      "  Downloading opencv_contrib_python-4.5.2.52-cp38-cp38-win_amd64.whl (41.5 MB)\n",
      "Requirement already satisfied: six in c:\\users\\hp\\anaconda3\\envs\\ai\\lib\\site-packages (from mediapipe) (1.15.0)\n",
      "Requirement already satisfied: wheel in c:\\users\\hp\\anaconda3\\envs\\ai\\lib\\site-packages (from mediapipe) (0.36.2)\n",
      "Requirement already satisfied: absl-py in c:\\users\\hp\\anaconda3\\envs\\ai\\lib\\site-packages (from mediapipe) (0.12.0)\n",
      "Requirement already satisfied: protobuf>=3.11.4 in c:\\users\\hp\\anaconda3\\envs\\ai\\lib\\site-packages (from mediapipe) (3.14.0)\n",
      "Requirement already satisfied: numpy in c:\\users\\hp\\anaconda3\\envs\\ai\\lib\\site-packages (from mediapipe) (1.20.1)\n",
      "Requirement already satisfied: attrs>=19.1.0 in c:\\users\\hp\\anaconda3\\envs\\ai\\lib\\site-packages (from mediapipe) (20.3.0)\n",
      "Installing collected packages: opencv-contrib-python, mediapipe\n",
      "Successfully installed mediapipe-0.8.4.2 opencv-contrib-python-4.5.2.52\n",
      "Note: you may need to restart the kernel to use updated packages.\n"
     ]
    }
   ],
   "source": [
    "pip install mediapipe"
   ]
  },
  {
   "cell_type": "code",
   "execution_count": 9,
   "id": "c1643279",
   "metadata": {},
   "outputs": [],
   "source": [
    "import mediapipe as mp\n",
    "import cv2\n",
    "import numpy as np\n",
    "import uuid\n",
    "import os\n",
    "from tensorflow.keras.models import load_model\n",
    "from pathlib import Path\n",
    "from glob import glob\n"
   ]
  },
  {
   "cell_type": "code",
   "execution_count": 10,
   "id": "1de558a6",
   "metadata": {},
   "outputs": [],
   "source": [
    "mp_drawing = mp.solutions.drawing_utils\n",
    "mp_hands = mp.solutions.hands"
   ]
  },
  {
   "cell_type": "code",
   "execution_count": 18,
   "id": "67ea7f78",
   "metadata": {},
   "outputs": [],
   "source": [
    "MODEL_DIR = './aslalphabetcnnmodel1'\n",
    "MODEL_PATH = MODEL_DIR + '/ann-model98.h5'\n",
    "MODEL_WEIGHTS_PATH = MODEL_DIR + '/ann-model98.weights.h5'\n",
    "CLASSES = ['A',\n",
    " 'B',\n",
    " 'C',\n",
    " 'D',\n",
    " 'E',\n",
    " 'F',\n",
    " 'G',\n",
    " 'H',\n",
    " 'I',\n",
    " 'J',\n",
    " 'K',\n",
    " 'L',\n",
    " 'M',\n",
    " 'N',\n",
    " 'O',\n",
    " 'P',\n",
    " 'Q',\n",
    " 'R',\n",
    " 'S',\n",
    " 'space',\n",
    " 'T',\n",
    " 'U',\n",
    " 'V',\n",
    " 'W',\n",
    " 'X',\n",
    " 'Y',\n",
    " 'Z']"
   ]
  },
  {
   "cell_type": "code",
   "execution_count": 19,
   "id": "697477b3",
   "metadata": {},
   "outputs": [],
   "source": [
    "# def preprocess_image(image):\n",
    "#     sobely = cv2.Sobel(image, cv2.CV_64F, 0, 1, ksize=5)\n",
    "#     return sobely"
   ]
  },
  {
   "cell_type": "code",
   "execution_count": 20,
   "id": "c79bfde1",
   "metadata": {},
   "outputs": [
    {
     "name": "stdout",
     "output_type": "stream",
     "text": [
      "Retrieving model from disk...\n",
      "Loading CNN model weights from disk...\n"
     ]
    }
   ],
   "source": [
    "def load_model_from_disk():\n",
    "    '''A convenience method for re-running certain parts of the\n",
    "    analysis locally without refitting all the data.'''\n",
    "    model_file = Path(MODEL_PATH)\n",
    "    model_weights_file = Path(MODEL_WEIGHTS_PATH)\n",
    "                      \n",
    "    if model_file.is_file() and model_weights_file.is_file():\n",
    "        print('Retrieving model from disk...')\n",
    "        model = load_model(model_file.__str__())\n",
    "                      \n",
    "        print('Loading CNN model weights from disk...')\n",
    "        model.load_weights(model_weights_file)\n",
    "        return model\n",
    "    \n",
    "    return None\n",
    "\n",
    "signDetector = load_model_from_disk()"
   ]
  },
  {
   "cell_type": "code",
   "execution_count": 30,
   "id": "bd98a457",
   "metadata": {},
   "outputs": [],
   "source": [
    "cap = cv2.VideoCapture(0)\n",
    "_, frame = cap.read()\n",
    "h, w, c = frame.shape\n",
    "\n",
    "i = 0\n",
    "text = \"\"\n",
    "\n",
    "with mp_hands.Hands(min_detection_confidence=0.8, min_tracking_confidence=0.5,max_num_hands=4) as hands: \n",
    "    while cap.isOpened():\n",
    "        i = i + 1\n",
    "        ret, frame = cap.read()\n",
    "        \n",
    "        # BGR 2 RGB\n",
    "        image = cv2.cvtColor(frame, cv2.COLOR_BGR2RGB)\n",
    "        \n",
    "        # Flip on horizontal\n",
    "        image = cv2.flip(image, 1)\n",
    "        \n",
    "        # Set flag\n",
    "        image.flags.writeable = False\n",
    "        \n",
    "        # Detections\n",
    "        croppedImage = cv2.resize(image,(200, 200))\n",
    "        results = hands.process(croppedImage)\n",
    "        \n",
    "        # Set flag to true\n",
    "        image.flags.writeable = True\n",
    "        \n",
    "        # RGB 2 BGR\n",
    "        image = cv2.cvtColor(image, cv2.COLOR_RGB2BGR)\n",
    "        \n",
    "        font = cv2.FONT_HERSHEY_SIMPLEX\n",
    "  \n",
    "        # org\n",
    "        org = (50, 50)\n",
    "\n",
    "        # fontScale\n",
    "        fontScale = 1\n",
    "\n",
    "        # Blue color in BGR\n",
    "        color = (255, 0, 0)\n",
    "\n",
    "        # Line thickness of 2 px\n",
    "        thickness = 2\n",
    "        \n",
    "        # Detections\n",
    "        # print(results)\n",
    "        \n",
    "        x = []\n",
    "        # Rendering results\n",
    "        if results.multi_hand_landmarks:\n",
    "            for num, hand in enumerate(results.multi_hand_landmarks):\n",
    "#                 x_max = 0\n",
    "#                 y_max = 0\n",
    "#                 x_min = w\n",
    "#                 y_min = h\n",
    "                landmarksForImage = [[lm.x,lm.y,lm.z] for lm in hand.landmark]   \n",
    "#                     x, y = int(lm.x * w), int(lm.y * h)\n",
    "#                     if x > x_max:\n",
    "#                         x_max = x\n",
    "#                     if x < x_min:\n",
    "#                         x_min = x\n",
    "#                     if y > y_max:\n",
    "#                         y_max = y\n",
    "#                     if y < y_min:\n",
    "#                         y_min = y\n",
    "#                 cv2.rectangle(image, (x_min - 25, y_min - 25), (x_max + 25, y_max + 25), (0, 255, 0), 2)\n",
    "#                 img1 = image[x_min:x_max,y_min:y_max]               \n",
    "#                 mp_drawing.draw_landmarks(image, hand, mp_hands.HAND_CONNECTIONS, \n",
    "#                                         mp_drawing.DrawingSpec(color=(121, 22, 76), thickness=2, circle_radius=4),\n",
    "#                                         mp_drawing.DrawingSpec(color=(250, 44, 250), thickness=2, circle_radius=2),\n",
    "#                                        )\n",
    "            x.append(landmarksForImage)\n",
    "            if i % 40 == 0 :\n",
    "#                 img = preprocess_image(img1)\n",
    "#                 croppedImage = cv2.resize(img,(64, 64))\n",
    "#                 prediction = signDetector.predict(x.reshape(-1, 64, 64, 3))\n",
    "                prediction = signDetector.predict(x)\n",
    "                r = np.argmax(prediction, axis=1)\n",
    "                text = text + CLASSES[r[0]]\n",
    "        cv2.putText(image,text,org, font, fontScale, color, thickness, cv2.LINE_AA)\n",
    "        cv2.imshow('Hand Tracking', image)\n",
    "\n",
    "        if cv2.waitKey(10) & 0xFF == ord('q'):\n",
    "            break\n",
    "\n",
    "cap.release()\n",
    "cv2.destroyAllWindows()"
   ]
  },
  {
   "cell_type": "code",
   "execution_count": null,
   "id": "bac3f268",
   "metadata": {},
   "outputs": [],
   "source": []
  },
  {
   "cell_type": "code",
   "execution_count": null,
   "id": "f8defdf5",
   "metadata": {},
   "outputs": [],
   "source": []
  }
 ],
 "metadata": {
  "kernelspec": {
   "display_name": "Python 3",
   "language": "python",
   "name": "python3"
  },
  "language_info": {
   "codemirror_mode": {
    "name": "ipython",
    "version": 3
   },
   "file_extension": ".py",
   "mimetype": "text/x-python",
   "name": "python",
   "nbconvert_exporter": "python",
   "pygments_lexer": "ipython3",
   "version": "3.8.8"
  }
 },
 "nbformat": 4,
 "nbformat_minor": 5
}
