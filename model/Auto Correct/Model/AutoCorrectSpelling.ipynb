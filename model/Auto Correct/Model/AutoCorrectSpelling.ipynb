{
 "cells": [
  {
   "cell_type": "code",
   "execution_count": 64,
   "id": "c8821194",
   "metadata": {},
   "outputs": [],
   "source": [
    "from tensorflow.keras.preprocessing.text import Tokenizer\n",
    "from tensorflow.keras.preprocessing.sequence import pad_sequences"
   ]
  },
  {
   "cell_type": "code",
   "execution_count": 70,
   "id": "41557b05",
   "metadata": {},
   "outputs": [],
   "source": [
    "sentenses = [\n",
    "    \"I love my dog\",\n",
    "    \"I love my cat\",\n",
    "    \"i love you\",\n",
    "    \"do you think my dog is amazing?\"\n",
    "]"
   ]
  },
  {
   "cell_type": "code",
   "execution_count": 46,
   "id": "d822860e",
   "metadata": {},
   "outputs": [],
   "source": [
    "test_sentences=[\n",
    "    \"i dont love my dog\", \n",
    "    \"i hate you\"\n",
    "]"
   ]
  },
  {
   "cell_type": "code",
   "execution_count": 49,
   "id": "e40f49c6",
   "metadata": {},
   "outputs": [],
   "source": [
    "tokenize = Tokenizer(num_words = 100,oov_token='<OOV>')"
   ]
  },
  {
   "cell_type": "code",
   "execution_count": 50,
   "id": "2afaa0ca",
   "metadata": {},
   "outputs": [],
   "source": [
    "tokenize.fit_on_texts(sentenses)"
   ]
  },
  {
   "cell_type": "code",
   "execution_count": 51,
   "id": "cbb09f9f",
   "metadata": {},
   "outputs": [],
   "source": [
    "word_index = tokenize.word_index"
   ]
  },
  {
   "cell_type": "code",
   "execution_count": 52,
   "id": "89467516",
   "metadata": {},
   "outputs": [],
   "source": [
    "sequences = tokenize.texts_to_sequences(sentenses)"
   ]
  },
  {
   "cell_type": "code",
   "execution_count": 53,
   "id": "d5b9e713",
   "metadata": {},
   "outputs": [],
   "source": [
    "test_sequences = tokenize.texts_to_sequences(test_sentences)"
   ]
  },
  {
   "cell_type": "code",
   "execution_count": 83,
   "id": "a7377f63",
   "metadata": {},
   "outputs": [],
   "source": [
    "padded = pad_sequences(sequences,padding=\"post\",maxlen=8,truncating=\"pre\")"
   ]
  },
  {
   "cell_type": "code",
   "execution_count": 84,
   "id": "44f0a327",
   "metadata": {},
   "outputs": [
    {
     "name": "stdout",
     "output_type": "stream",
     "text": [
      "[[2, 3, 4, 5], [2, 3, 4, 7], [2, 3, 6], [8, 6, 9, 4, 5, 10, 11]]\n",
      "\n",
      "\n",
      "{'<OOV>': 1, 'i': 2, 'love': 3, 'my': 4, 'dog': 5, 'you': 6, 'cat': 7, 'do': 8, 'think': 9, 'is': 10, 'amazing': 11}\n",
      "[[2, 1, 3, 4, 5], [2, 1, 6]]\n",
      "[[ 2  3  4  5  0  0  0  0]\n",
      " [ 2  3  4  7  0  0  0  0]\n",
      " [ 2  3  6  0  0  0  0  0]\n",
      " [ 8  6  9  4  5 10 11  0]]\n"
     ]
    }
   ],
   "source": [
    "print(sequences)\n",
    "print(\"\\n\")\n",
    "print(word_index)\n",
    "print(test_sequences)\n",
    "print(padded)"
   ]
  },
  {
   "cell_type": "code",
   "execution_count": 82,
   "id": "1dcea25a",
   "metadata": {},
   "outputs": [
    {
     "name": "stdout",
     "output_type": "stream",
     "text": [
      "[[ 2  3  4  5  0]\n",
      " [ 2  3  4  7  0]\n",
      " [ 2  3  6  0  0]\n",
      " [ 9  4  5 10 11]]\n"
     ]
    }
   ],
   "source": [
    "\n",
    "print(padded)"
   ]
  },
  {
   "cell_type": "code",
   "execution_count": null,
   "id": "54196e15",
   "metadata": {},
   "outputs": [],
   "source": []
  }
 ],
 "metadata": {
  "kernelspec": {
   "display_name": "Python 3",
   "language": "python",
   "name": "python3"
  },
  "language_info": {
   "codemirror_mode": {
    "name": "ipython",
    "version": 3
   },
   "file_extension": ".py",
   "mimetype": "text/x-python",
   "name": "python",
   "nbconvert_exporter": "python",
   "pygments_lexer": "ipython3",
   "version": "3.8.8"
  }
 },
 "nbformat": 4,
 "nbformat_minor": 5
}
