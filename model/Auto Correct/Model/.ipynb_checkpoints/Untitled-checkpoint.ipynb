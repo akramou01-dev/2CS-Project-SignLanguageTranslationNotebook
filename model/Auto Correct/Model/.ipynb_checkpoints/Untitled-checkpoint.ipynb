{
 "cells": [
  {
   "cell_type": "code",
   "execution_count": 1,
   "id": "754df071",
   "metadata": {},
   "outputs": [],
   "source": [
    "import numpy as np \n",
    "import string \n",
    "from collections import Counter\n",
    "import re"
   ]
  },
  {
   "cell_type": "code",
   "execution_count": 10,
   "id": "06387c7c",
   "metadata": {},
   "outputs": [],
   "source": [
    "def read_file(filename):\n",
    "    with open(filename,\"r\") as f:\n",
    "        lines = f.readlines()\n",
    "        words = []\n",
    "        for line in lines:\n",
    "            words+= re.findall(r'\\w+',line.lower())\n",
    "\n",
    "        \n",
    "    return words\n",
    "        "
   ]
  },
  {
   "cell_type": "code",
   "execution_count": 27,
   "id": "492db21b",
   "metadata": {},
   "outputs": [
    {
     "data": {
      "text/plain": [
       "669729"
      ]
     },
     "execution_count": 27,
     "metadata": {},
     "output_type": "execute_result"
    }
   ],
   "source": [
    "words = read_file(\"../Datasets/big.txt\")\n",
    "len(words)"
   ]
  },
  {
   "cell_type": "code",
   "execution_count": 28,
   "id": "8dd6eeb2",
   "metadata": {},
   "outputs": [],
   "source": [
    "vocabs = set(words)"
   ]
  },
  {
   "cell_type": "code",
   "execution_count": 29,
   "id": "51a2582d",
   "metadata": {},
   "outputs": [
    {
     "data": {
      "text/plain": [
       "26350"
      ]
     },
     "execution_count": 29,
     "metadata": {},
     "output_type": "execute_result"
    }
   ],
   "source": [
    "len(vocabs)"
   ]
  },
  {
   "cell_type": "code",
   "execution_count": 40,
   "id": "a53433e4",
   "metadata": {},
   "outputs": [
    {
     "data": {
      "text/plain": [
       "0"
      ]
     },
     "execution_count": 40,
     "metadata": {},
     "output_type": "execute_result"
    }
   ],
   "source": [
    "words_counts = Counter(words)\n"
   ]
  },
  {
   "cell_type": "code",
   "execution_count": 43,
   "id": "36be5ac5",
   "metadata": {},
   "outputs": [],
   "source": [
    "total_words = float(sum(words_counts.values()))"
   ]
  },
  {
   "cell_type": "code",
   "execution_count": 46,
   "id": "875bab81",
   "metadata": {},
   "outputs": [],
   "source": [
    "words_proba  = {word: words_counts[word]/total_words for word in words_counts.keys()}"
   ]
  },
  {
   "cell_type": "code",
   "execution_count": 51,
   "id": "514e11bb",
   "metadata": {},
   "outputs": [
    {
     "data": {
      "text/plain": [
       "0.003359567825194967"
      ]
     },
     "execution_count": 51,
     "metadata": {},
     "output_type": "execute_result"
    }
   ],
   "source": [
    "words_proba[\"an\"]"
   ]
  },
  {
   "cell_type": "code",
   "execution_count": 70,
   "id": "33c598f5",
   "metadata": {},
   "outputs": [],
   "source": [
    "def split(word): \n",
    "    return [(word[:i],word[i:])for i in range(len(word)+1)]"
   ]
  },
  {
   "cell_type": "code",
   "execution_count": 71,
   "id": "904b8148",
   "metadata": {},
   "outputs": [
    {
     "data": {
      "text/plain": [
       "[('', 'trash'),\n",
       " ('t', 'rash'),\n",
       " ('tr', 'ash'),\n",
       " ('tra', 'sh'),\n",
       " ('tras', 'h'),\n",
       " ('trash', '')]"
      ]
     },
     "execution_count": 71,
     "metadata": {},
     "output_type": "execute_result"
    }
   ],
   "source": [
    "split(\"trash\")"
   ]
  },
  {
   "cell_type": "code",
   "execution_count": 72,
   "id": "c1243deb",
   "metadata": {},
   "outputs": [],
   "source": [
    "def delete(word):\n",
    "    return [l +r[1:] for l,r in split(word) if r]"
   ]
  },
  {
   "cell_type": "code",
   "execution_count": 75,
   "id": "2545f6a9",
   "metadata": {},
   "outputs": [
    {
     "data": {
      "text/plain": [
       "['rash', 'tash', 'trsh', 'trah', 'tras']"
      ]
     },
     "execution_count": 75,
     "metadata": {},
     "output_type": "execute_result"
    }
   ],
   "source": [
    "delete('trash')"
   ]
  },
  {
   "cell_type": "code",
   "execution_count": 82,
   "id": "c22ebbb6",
   "metadata": {},
   "outputs": [],
   "source": [
    "def swap(word):\n",
    "    return [l + r[1] + r[0] + r[2:] for l,r in split(word) if len(r)>1]"
   ]
  },
  {
   "cell_type": "code",
   "execution_count": 83,
   "id": "68558c7d",
   "metadata": {},
   "outputs": [
    {
     "data": {
      "text/plain": [
       "['karam', 'arkam', 'akarm', 'akrma']"
      ]
     },
     "execution_count": 83,
     "metadata": {},
     "output_type": "execute_result"
    }
   ],
   "source": [
    "swap(\"akram\")"
   ]
  },
  {
   "cell_type": "code",
   "execution_count": 84,
   "id": "1c138317",
   "metadata": {},
   "outputs": [],
   "source": [
    "def replace(word):\n",
    "    letters = string.ascii_lowercase\n",
    "    return [l + letter + r[1:] for l,r in split(word) if r for letter in letters]"
   ]
  },
  {
   "cell_type": "code",
   "execution_count": 85,
   "id": "64a9cab3",
   "metadata": {
    "scrolled": true
   },
   "outputs": [
    {
     "data": {
      "text/plain": [
       "['akram',\n",
       " 'bkram',\n",
       " 'ckram',\n",
       " 'dkram',\n",
       " 'ekram',\n",
       " 'fkram',\n",
       " 'gkram',\n",
       " 'hkram',\n",
       " 'ikram',\n",
       " 'jkram',\n",
       " 'kkram',\n",
       " 'lkram',\n",
       " 'mkram',\n",
       " 'nkram',\n",
       " 'okram',\n",
       " 'pkram',\n",
       " 'qkram',\n",
       " 'rkram',\n",
       " 'skram',\n",
       " 'tkram',\n",
       " 'ukram',\n",
       " 'vkram',\n",
       " 'wkram',\n",
       " 'xkram',\n",
       " 'ykram',\n",
       " 'zkram',\n",
       " 'aaram',\n",
       " 'abram',\n",
       " 'acram',\n",
       " 'adram',\n",
       " 'aeram',\n",
       " 'afram',\n",
       " 'agram',\n",
       " 'ahram',\n",
       " 'airam',\n",
       " 'ajram',\n",
       " 'akram',\n",
       " 'alram',\n",
       " 'amram',\n",
       " 'anram',\n",
       " 'aoram',\n",
       " 'apram',\n",
       " 'aqram',\n",
       " 'arram',\n",
       " 'asram',\n",
       " 'atram',\n",
       " 'auram',\n",
       " 'avram',\n",
       " 'awram',\n",
       " 'axram',\n",
       " 'ayram',\n",
       " 'azram',\n",
       " 'akaam',\n",
       " 'akbam',\n",
       " 'akcam',\n",
       " 'akdam',\n",
       " 'akeam',\n",
       " 'akfam',\n",
       " 'akgam',\n",
       " 'akham',\n",
       " 'akiam',\n",
       " 'akjam',\n",
       " 'akkam',\n",
       " 'aklam',\n",
       " 'akmam',\n",
       " 'aknam',\n",
       " 'akoam',\n",
       " 'akpam',\n",
       " 'akqam',\n",
       " 'akram',\n",
       " 'aksam',\n",
       " 'aktam',\n",
       " 'akuam',\n",
       " 'akvam',\n",
       " 'akwam',\n",
       " 'akxam',\n",
       " 'akyam',\n",
       " 'akzam',\n",
       " 'akram',\n",
       " 'akrbm',\n",
       " 'akrcm',\n",
       " 'akrdm',\n",
       " 'akrem',\n",
       " 'akrfm',\n",
       " 'akrgm',\n",
       " 'akrhm',\n",
       " 'akrim',\n",
       " 'akrjm',\n",
       " 'akrkm',\n",
       " 'akrlm',\n",
       " 'akrmm',\n",
       " 'akrnm',\n",
       " 'akrom',\n",
       " 'akrpm',\n",
       " 'akrqm',\n",
       " 'akrrm',\n",
       " 'akrsm',\n",
       " 'akrtm',\n",
       " 'akrum',\n",
       " 'akrvm',\n",
       " 'akrwm',\n",
       " 'akrxm',\n",
       " 'akrym',\n",
       " 'akrzm',\n",
       " 'akraa',\n",
       " 'akrab',\n",
       " 'akrac',\n",
       " 'akrad',\n",
       " 'akrae',\n",
       " 'akraf',\n",
       " 'akrag',\n",
       " 'akrah',\n",
       " 'akrai',\n",
       " 'akraj',\n",
       " 'akrak',\n",
       " 'akral',\n",
       " 'akram',\n",
       " 'akran',\n",
       " 'akrao',\n",
       " 'akrap',\n",
       " 'akraq',\n",
       " 'akrar',\n",
       " 'akras',\n",
       " 'akrat',\n",
       " 'akrau',\n",
       " 'akrav',\n",
       " 'akraw',\n",
       " 'akrax',\n",
       " 'akray',\n",
       " 'akraz']"
      ]
     },
     "execution_count": 85,
     "metadata": {},
     "output_type": "execute_result"
    }
   ],
   "source": [
    "replace(\"akram\")"
   ]
  },
  {
   "cell_type": "code",
   "execution_count": 86,
   "id": "e6718eab",
   "metadata": {},
   "outputs": [],
   "source": [
    "def insert(word):\n",
    "    letters = string.ascii_lowercase\n",
    "    return [l + letter + r for l,r in split(word) for letter in letters ]"
   ]
  },
  {
   "cell_type": "code",
   "execution_count": 87,
   "id": "408262ed",
   "metadata": {},
   "outputs": [
    {
     "data": {
      "text/plain": [
       "['aakram',\n",
       " 'bakram',\n",
       " 'cakram',\n",
       " 'dakram',\n",
       " 'eakram',\n",
       " 'fakram',\n",
       " 'gakram',\n",
       " 'hakram',\n",
       " 'iakram',\n",
       " 'jakram',\n",
       " 'kakram',\n",
       " 'lakram',\n",
       " 'makram',\n",
       " 'nakram',\n",
       " 'oakram',\n",
       " 'pakram',\n",
       " 'qakram',\n",
       " 'rakram',\n",
       " 'sakram',\n",
       " 'takram',\n",
       " 'uakram',\n",
       " 'vakram',\n",
       " 'wakram',\n",
       " 'xakram',\n",
       " 'yakram',\n",
       " 'zakram',\n",
       " 'aakram',\n",
       " 'abkram',\n",
       " 'ackram',\n",
       " 'adkram',\n",
       " 'aekram',\n",
       " 'afkram',\n",
       " 'agkram',\n",
       " 'ahkram',\n",
       " 'aikram',\n",
       " 'ajkram',\n",
       " 'akkram',\n",
       " 'alkram',\n",
       " 'amkram',\n",
       " 'ankram',\n",
       " 'aokram',\n",
       " 'apkram',\n",
       " 'aqkram',\n",
       " 'arkram',\n",
       " 'askram',\n",
       " 'atkram',\n",
       " 'aukram',\n",
       " 'avkram',\n",
       " 'awkram',\n",
       " 'axkram',\n",
       " 'aykram',\n",
       " 'azkram',\n",
       " 'akaram',\n",
       " 'akbram',\n",
       " 'akcram',\n",
       " 'akdram',\n",
       " 'akeram',\n",
       " 'akfram',\n",
       " 'akgram',\n",
       " 'akhram',\n",
       " 'akiram',\n",
       " 'akjram',\n",
       " 'akkram',\n",
       " 'aklram',\n",
       " 'akmram',\n",
       " 'aknram',\n",
       " 'akoram',\n",
       " 'akpram',\n",
       " 'akqram',\n",
       " 'akrram',\n",
       " 'aksram',\n",
       " 'aktram',\n",
       " 'akuram',\n",
       " 'akvram',\n",
       " 'akwram',\n",
       " 'akxram',\n",
       " 'akyram',\n",
       " 'akzram',\n",
       " 'akraam',\n",
       " 'akrbam',\n",
       " 'akrcam',\n",
       " 'akrdam',\n",
       " 'akream',\n",
       " 'akrfam',\n",
       " 'akrgam',\n",
       " 'akrham',\n",
       " 'akriam',\n",
       " 'akrjam',\n",
       " 'akrkam',\n",
       " 'akrlam',\n",
       " 'akrmam',\n",
       " 'akrnam',\n",
       " 'akroam',\n",
       " 'akrpam',\n",
       " 'akrqam',\n",
       " 'akrram',\n",
       " 'akrsam',\n",
       " 'akrtam',\n",
       " 'akruam',\n",
       " 'akrvam',\n",
       " 'akrwam',\n",
       " 'akrxam',\n",
       " 'akryam',\n",
       " 'akrzam',\n",
       " 'akraam',\n",
       " 'akrabm',\n",
       " 'akracm',\n",
       " 'akradm',\n",
       " 'akraem',\n",
       " 'akrafm',\n",
       " 'akragm',\n",
       " 'akrahm',\n",
       " 'akraim',\n",
       " 'akrajm',\n",
       " 'akrakm',\n",
       " 'akralm',\n",
       " 'akramm',\n",
       " 'akranm',\n",
       " 'akraom',\n",
       " 'akrapm',\n",
       " 'akraqm',\n",
       " 'akrarm',\n",
       " 'akrasm',\n",
       " 'akratm',\n",
       " 'akraum',\n",
       " 'akravm',\n",
       " 'akrawm',\n",
       " 'akraxm',\n",
       " 'akraym',\n",
       " 'akrazm',\n",
       " 'akrama',\n",
       " 'akramb',\n",
       " 'akramc',\n",
       " 'akramd',\n",
       " 'akrame',\n",
       " 'akramf',\n",
       " 'akramg',\n",
       " 'akramh',\n",
       " 'akrami',\n",
       " 'akramj',\n",
       " 'akramk',\n",
       " 'akraml',\n",
       " 'akramm',\n",
       " 'akramn',\n",
       " 'akramo',\n",
       " 'akramp',\n",
       " 'akramq',\n",
       " 'akramr',\n",
       " 'akrams',\n",
       " 'akramt',\n",
       " 'akramu',\n",
       " 'akramv',\n",
       " 'akramw',\n",
       " 'akramx',\n",
       " 'akramy',\n",
       " 'akramz']"
      ]
     },
     "execution_count": 87,
     "metadata": {},
     "output_type": "execute_result"
    }
   ],
   "source": [
    "insert(\"akram\")"
   ]
  },
  {
   "cell_type": "code",
   "execution_count": 88,
   "id": "bfbc370d",
   "metadata": {},
   "outputs": [],
   "source": [
    "def one_level_edit(word): \n",
    "    return set(delete(word) + insert(word) + swap(word) + replace(word))"
   ]
  },
  {
   "cell_type": "code",
   "execution_count": 124,
   "id": "cf751e7c",
   "metadata": {},
   "outputs": [],
   "source": [
    "def two_level_edit(word):\n",
    "    return set(l2 for l1 in one_level_edit(word) for l2 in one_level_edit(l1))"
   ]
  },
  {
   "cell_type": "code",
   "execution_count": 126,
   "id": "f8be6095",
   "metadata": {},
   "outputs": [
    {
     "data": {
      "text/plain": [
       "36859"
      ]
     },
     "execution_count": 126,
     "metadata": {},
     "output_type": "execute_result"
    }
   ],
   "source": [
    "len(two_level_edit(\"akram\"))"
   ]
  },
  {
   "cell_type": "code",
   "execution_count": 125,
   "id": "c8fa6418",
   "metadata": {},
   "outputs": [
    {
     "data": {
      "text/plain": [
       "286"
      ]
     },
     "execution_count": 125,
     "metadata": {},
     "output_type": "execute_result"
    }
   ],
   "source": [
    "len(one_level_edit(\"akram\"))"
   ]
  },
  {
   "cell_type": "code",
   "execution_count": 154,
   "id": "8d384f46",
   "metadata": {},
   "outputs": [],
   "source": [
    "def i_level_edit(word,i): \n",
    "    condidates = {word}\n",
    "    for j in range(i):\n",
    "        print(j)\n",
    "        new_cond = set()\n",
    "        for item in condidates:\n",
    "            print(item)\n",
    "            new_cond.update(one_level_edit(item))\n",
    "            \n",
    "        condidates.update(new_cond)\n",
    "    return condidates"
   ]
  },
  {
   "cell_type": "code",
   "execution_count": 155,
   "id": "fd49bb35",
   "metadata": {
    "scrolled": true
   },
   "outputs": [],
   "source": [
    "# len(i_level_edit(\"akram\",3))"
   ]
  },
  {
   "cell_type": "code",
   "execution_count": 164,
   "id": "cfaa2fd6",
   "metadata": {},
   "outputs": [],
   "source": [
    "def correct_spelling(word,vocab,word_proba): \n",
    "    if word in vocab:\n",
    "        print(f\"{word} is already correctly spelt\")\n",
    "        return \n",
    "    suggestions  = one_level_edit(word) or two_level_edit(word) or [word]\n",
    "    best_geues = [word for word in suggestions if word in vocab]\n",
    "    return [(word,word_proba[word]) for word in best_geues]"
   ]
  },
  {
   "cell_type": "code",
   "execution_count": 175,
   "id": "af095081",
   "metadata": {},
   "outputs": [],
   "source": [
    "word = \"foad\"\n",
    "guesses = correct_spelling(word,vocabs,words_proba)"
   ]
  },
  {
   "cell_type": "code",
   "execution_count": 177,
   "id": "ac88d5ab",
   "metadata": {},
   "outputs": [
    {
     "data": {
      "text/plain": [
       "[('load', 5.97256502256883e-06),\n",
       " ('fold', 2.8369683857201944e-05),\n",
       " ('fond', 2.389026009027532e-05),\n",
       " ('ford', 2.986282511284415e-06),\n",
       " ('foam', 2.986282511284415e-06),\n",
       " ('road', 0.00014334156054165192),\n",
       " ('fad', 1.4931412556422075e-06),\n",
       " ('food', 5.225994394747726e-05)]"
      ]
     },
     "execution_count": 177,
     "metadata": {},
     "output_type": "execute_result"
    }
   ],
   "source": [
    "guesses"
   ]
  },
  {
   "cell_type": "code",
   "execution_count": null,
   "id": "e3170685",
   "metadata": {},
   "outputs": [],
   "source": []
  },
  {
   "cell_type": "code",
   "execution_count": null,
   "id": "2469a26c",
   "metadata": {},
   "outputs": [],
   "source": []
  }
 ],
 "metadata": {
  "kernelspec": {
   "display_name": "Python 3",
   "language": "python",
   "name": "python3"
  },
  "language_info": {
   "codemirror_mode": {
    "name": "ipython",
    "version": 3
   },
   "file_extension": ".py",
   "mimetype": "text/x-python",
   "name": "python",
   "nbconvert_exporter": "python",
   "pygments_lexer": "ipython3",
   "version": "3.8.8"
  }
 },
 "nbformat": 4,
 "nbformat_minor": 5
}
